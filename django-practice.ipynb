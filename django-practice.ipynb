{
 "cells": [
  {
   "cell_type": "code",
   "execution_count": null,
   "metadata": {
    "collapsed": true
   },
   "outputs": [],
   "source": [
    "\"\"\"\n",
    "    Django модели.\n",
    "    Нужно описать в виде моделей следующие сущности и связи между ними:\n",
    "    1. Магазин.\n",
    "    2. Товар. В каждом магазине может быть множество товаров, один и \n",
    "        тот же товар может быть в нескольких магазинах.\n",
    "    3. Продавец. В магазине может быть несколько продавцов,\n",
    "        но каждый продавец может рабоать только в одном магазине.\n",
    "        В полях модели должна быть дата найма на работу.\n",
    "\"\"\"\n",
    "from django.db import models\n",
    "\n",
    "\n",
    "class Shop(models.Model):\n",
    "    pass\n",
    "\n",
    "\n",
    "class Goods(models.Model):\n",
    "    pass\n",
    "\n",
    "\n",
    "class Seller(models.Model):\n",
    "    pass"
   ]
  },
  {
   "cell_type": "code",
   "execution_count": null,
   "metadata": {
    "collapsed": true
   },
   "outputs": [],
   "source": [
    "\"\"\"\n",
    "    Django модели.\n",
    "    Создать несколько связанных объектов для каждой модели.\n",
    "\"\"\"\n",
    "args = {}\n",
    "\n",
    "shop = Shop(**args)\n",
    "shop.save()"
   ]
  },
  {
   "cell_type": "code",
   "execution_count": null,
   "metadata": {
    "collapsed": true
   },
   "outputs": [],
   "source": [
    "\"\"\"\n",
    "    Django queryset.\n",
    "    Получить все магазины, все товары и всех продавцов.\n",
    "\"\"\"\n",
    "all_shops = []\n",
    "all_goods = []\n",
    "all_sellers = []"
   ]
  },
  {
   "cell_type": "code",
   "execution_count": null,
   "metadata": {
    "collapsed": true
   },
   "outputs": [],
   "source": [
    "\"\"\"\n",
    "    Django queryset.\n",
    "    Для каждого магазина получить все товары и всех продавцов.\n",
    "\"\"\"\n",
    "for shop in Shop.objects.all():\n",
    "    pass"
   ]
  },
  {
   "cell_type": "code",
   "execution_count": null,
   "metadata": {
    "collapsed": true
   },
   "outputs": [],
   "source": [
    "\"\"\"\n",
    "    Django queryset.\n",
    "    Найти продавцов с наибольшим и наименьшим стажем.\n",
    "\"\"\"\n",
    "shellback = None\n",
    "young_boy = None"
   ]
  },
  {
   "cell_type": "code",
   "execution_count": null,
   "metadata": {
    "collapsed": true
   },
   "outputs": [],
   "source": [
    "\"\"\"\n",
    "    Django queryset.\n",
    "    Вывести товар, продающийся в наибольшем количестве магазинов.\n",
    "\"\"\"\n",
    "popular_goods = Goods.objects.all()"
   ]
  }
 ],
 "metadata": {
  "kernelspec": {
   "display_name": "Python 2",
   "language": "python",
   "name": "python2"
  },
  "language_info": {
   "codemirror_mode": {
    "name": "ipython",
    "version": 2
   },
   "file_extension": ".py",
   "mimetype": "text/x-python",
   "name": "python",
   "nbconvert_exporter": "python",
   "pygments_lexer": "ipython2",
   "version": "2.7.11"
  }
 },
 "nbformat": 4,
 "nbformat_minor": 0
}
